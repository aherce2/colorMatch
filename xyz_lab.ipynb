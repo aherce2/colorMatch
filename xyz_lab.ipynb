{
 "cells": [
  {
   "cell_type": "code",
   "execution_count": 27,
   "id": "e6502734",
   "metadata": {},
   "outputs": [],
   "source": [
    "import numpy as np\n",
    "from skimage.color import xyz2lab\n"
   ]
  },
  {
   "cell_type": "code",
   "execution_count": 47,
   "id": "9f28fd0d",
   "metadata": {},
   "outputs": [],
   "source": [
    "\n",
    "#xyY values \n",
    "magenta = 0.321, 0.154, 28.484\n",
    "green = 0.3, 0.6, 71.516\n",
    "blue = \t0.15, 0.06, 7.219\n",
    "yellow = 0.419, 0.505, 92.781\n",
    "orange = 0.543, 0.407, 36.703\n",
    "red = 0.64, 0.33, 21.266"
   ]
  },
  {
   "cell_type": "code",
   "execution_count": null,
   "id": "ae93ae8e",
   "metadata": {},
   "outputs": [],
   "source": [
    "''' \n",
    "\n",
    "XYZ Values\n",
    "\n",
    "Magenta = \t59.289, 28.484, 96.978\n",
    "Green = \t35.758, 71.516, 11.919\n",
    "Blue = \t18.046, 7.219, 95.044\n",
    "Yellow = \t77, 92.781, 13.853\n",
    "Orange = \t48.961, 36.703, 4.506\n",
    "Red = \t41.242, 21.266, 1.933\n",
    "\n",
    "CIE-LAB\n",
    "\n",
    "Magenta =   60.324, 98.235, -60.835\n",
    "Green = \t87.735, -86.183, 83.18\n",
    "Blue = \t32.299, 79.191, -107.865\n",
    "Yellow = \t97.139, -21.558, 94.477\n",
    "Orange = 67.054, 42.822, 74.016\n",
    "Red = \t53.239, 80.09, 67.201\n",
    "\n",
    "'''"
   ]
  },
  {
   "cell_type": "code",
   "execution_count": 48,
   "id": "48395f0e",
   "metadata": {},
   "outputs": [],
   "source": [
    "import numpy as np\n",
    "\n",
    "def xyY_to_XYZ(x, y, Y):\n",
    "    X = (Y / y) * x\n",
    "    Z = (Y / y) * (1 - x - y)\n",
    "    return X, Y, Z\n",
    "\n",
    "def f(t):\n",
    "    if t > 0.008856:\n",
    "        return t ** (1/3.0)\n",
    "    else:\n",
    "        return 7.787 * t + 16/116.0\n",
    "    \n",
    "def xyz_to_lab(X, Y, Z, Xn=95.047, Yn=100, Zn=108.88):\n",
    "    fx = f(X / Xn)\n",
    "    fy = f(Y / Yn)\n",
    "    fz = f(Z / Zn)\n",
    "    \n",
    "    L = 116 * fy - 16\n",
    "    a = 500 * (fx - fy)\n",
    "    b = 200 * (fy - fz)\n",
    "    \n",
    "    return L, a, b\n",
    "\n"
   ]
  },
  {
   "cell_type": "code",
   "execution_count": 51,
   "id": "4836559d",
   "metadata": {},
   "outputs": [
    {
     "name": "stdout",
     "output_type": "stream",
     "text": [
      "(114.68056523336955, -2.029156059987991, 22.346642142915485)\n"
     ]
    }
   ],
   "source": [
    "# x,y,Y = 0.343636, 0.365479, 142.974651\n",
    "# X, Yn, Z = xyY_to_XYZ(x,y,Y)\n",
    "# print(X, Yn, Z)\n",
    "# l,a,b = xyz_to_lab(X, Yn, Z)\n",
    "# print(l,a,b)\n",
    "\n",
    "X, Y, Z = 134.429775,142.974651,113.794039\n",
    "print(xyz_to_lab(X,Y,Z))"
   ]
  },
  {
   "cell_type": "code",
   "execution_count": 49,
   "id": "a9416c2e",
   "metadata": {},
   "outputs": [
    {
     "name": "stdout",
     "output_type": "stream",
     "text": [
      "(0.64, 0.33, 21.266)\n",
      "Red: (41.24315151515151, 21.266, 1.9332727272727253)\n",
      "(53.239394144246575, 80.09088097617762, 67.2013585114961)\n"
     ]
    }
   ],
   "source": [
    "\n",
    "# Conver to XYZ\n",
    "\n",
    "x,y,Y = magenta\n",
    "\n",
    "# magenta_XYZ = xyY_to_XYZ(x,y,Y)\n",
    "# print(f\"Magenta: {magenta_XYZ}\")\n",
    "# print(f\"Magenta CIELAB: {xyz2lab(magenta_XYZ)}\")\n",
    "\n",
    "\n",
    "# x,y,Y = green\n",
    "# X,Y,Z = xyY_to_XYZ(x,y,Y)\n",
    "# print(f\"Green: {X,Y,Z }\")\n",
    "# green_lab = xyz_to_lab(X,Y,Z )\n",
    "# print(green_lab)\n",
    "\n",
    "print(red)\n",
    "x,y,Y = red\n",
    "X,Y,Z = xyY_to_XYZ(x,y,Y)\n",
    "print(f\"Red: {X,Y,Z }\")\n",
    "red = xyz_to_lab(X,Y,Z )\n",
    "print(red)"
   ]
  }
 ],
 "metadata": {
  "kernelspec": {
   "display_name": "Python 3",
   "language": "python",
   "name": "python3"
  },
  "language_info": {
   "codemirror_mode": {
    "name": "ipython",
    "version": 3
   },
   "file_extension": ".py",
   "mimetype": "text/x-python",
   "name": "python",
   "nbconvert_exporter": "python",
   "pygments_lexer": "ipython3",
   "version": "3.9.13"
  }
 },
 "nbformat": 4,
 "nbformat_minor": 5
}
