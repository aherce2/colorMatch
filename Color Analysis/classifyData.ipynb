{
 "cells": [
  {
   "cell_type": "markdown",
   "metadata": {},
   "source": [
    "Classify CSV Data \n",
    "\n",
    "- Calculate LAB conversion from RGB\n",
    "- Determine Monk Category based on LAB Values\n",
    "\n",
    "Return CSV File with filled columns"
   ]
  },
  {
   "cell_type": "code",
   "execution_count": 4,
   "metadata": {},
   "outputs": [],
   "source": [
    "import csv\n",
    "from colormath.color_objects import sRGBColor, LabColor\n",
    "from colormath.color_conversions import convert_color\n",
    "from colormath.color_objects import LabColor  \n",
    "from colormath.color_diff import delta_e_cie1976 \n",
    "from colormath.color_diff import delta_e_cie1976  \n",
    "import pandas as pd\n",
    "import math\n",
    "from tqdm import tqdm\n",
    "import numpy as np\n",
    "from skimage.color import lab2rgb, deltaE_ciede2000\n"
   ]
  },
  {
   "cell_type": "code",
   "execution_count": 11,
   "metadata": {},
   "outputs": [],
   "source": [
    "# Define MST reference LAB values\n",
    "MST_HEX = { \n",
    "    1: '#f6ede4',  \n",
    "    2: '#f3e7db',\n",
    "    3: '#f7ead0',\n",
    "    4: '#eadaba',\n",
    "    5: '#d7bd96',\n",
    "    6: '#a07e56',\n",
    "    7: '#825c43',\n",
    "    8: '#604134',\n",
    "    9: '#3a312a',\n",
    "    10: '#292420'\n",
    "}  "
   ]
  },
  {
   "cell_type": "code",
   "execution_count": 12,
   "metadata": {},
   "outputs": [],
   "source": [
    "# Define MST reference LAB values\n",
    "MST_REF = { \n",
    "    1: LabColor(lab_l=94.211, lab_a=1.503, lab_b=5.422),  \n",
    "    2: LabColor(lab_l=92.275, lab_a=2.061, lab_b=7.28), \n",
    "    3: LabColor(lab_l=93.091, lab_a=0.216, lab_b=14.205),\n",
    "    4: LabColor (lab_l=87.573, lab_a=0.459, lab_b=17.748),\n",
    "    5: LabColor(lab_l=77.902, lab_a=3.471, lab_b=23.136),\n",
    "    6: LabColor(lab_l=55.142, lab_a=7.783, lab_b=26.74),\n",
    "    7: LabColor(lab_l=42.47, lab_a=12.325, lab_b=20.53),\n",
    "    8: LabColor(lab_l=30.678, lab_a=11.667, lab_b=13.335),\n",
    "    9: LabColor(lab_l=21.069, lab_a=2.69, lab_b=5.964),\n",
    "    10: LabColor(lab_l=14.61, lab_a=1.482, lab_b=3.525)\n",
    "}  \n"
   ]
  },
  {
   "cell_type": "code",
   "execution_count": 27,
   "metadata": {},
   "outputs": [],
   "source": [
    "\n",
    "\n",
    "def classify_mst_category(L, a, b):\n",
    "    min_de = float('inf')\n",
    "    closest_category = 0\n",
    "    input_color = (L, a, b)  # Store as a tuple instead of LabColor\n",
    "\n",
    "    for category, ref_lab in MST_REF.items():\n",
    "        # Extract numerical values from LabColor objects\n",
    "        ref_values = (ref_lab.lab_l, ref_lab.lab_a, ref_lab.lab_b)\n",
    "        \n",
    "        # Calculate deltaE using numerical tuples\n",
    "        current_de = deltaE_ciede2000(ref_values, input_color)\n",
    "        \n",
    "        if current_de < min_de:\n",
    "            min_de = current_de\n",
    "            closest_category = category\n",
    "            \n",
    "    return closest_category\n",
    "\n",
    "\n",
    "def process_csv(input_filename, output_filename):\n",
    "    \"\"\"\n",
    "    Reads a CSV file with RGB/HEX values and fills in L*, a*, b*, and monk_category columns.\n",
    "\n",
    "    Args:\n",
    "        input_filename: The input CSV file containing RGB/HEX values.\n",
    "        output_filename: The output CSV file with updated L*, a*, b*, and monk_category columns.\n",
    "    \"\"\"\n",
    "    # Load the CSV file into a DataFrame\n",
    "    try:\n",
    "        df = pd.read_csv(input_filename)\n",
    "        print(f\"Successfully loaded {len(df)} rows from {input_filename}.\")\n",
    "     \n",
    "        # Classify each row into monk_category based on LAB values\n",
    "        print(\"Classifying rows into monk_category...\")\n",
    "        df['monk_category'] = df.apply(\n",
    "            lambda row: classify_mst_category(row['L'], row['a'], row['b']), axis=1)\n",
    "\n",
    "        # Save the updated DataFrame to a new CSV file\n",
    "        df.to_csv(output_filename, index=False)\n",
    "        print(f\"Processing complete! Results saved to {output_filename}.\")\n",
    "    \n",
    "    except FileNotFoundError:\n",
    "        print(f\"Error: File '{input_filename}' not found.\")\n",
    "    \n",
    "    except Exception as e:\n",
    "        print(f\"An error occurred during processing: {e}\")\n"
   ]
  },
  {
   "cell_type": "code",
   "execution_count": 28,
   "metadata": {},
   "outputs": [
    {
     "name": "stdout",
     "output_type": "stream",
     "text": [
      "Successfully loaded 9846 rows from cielab.csv.\n",
      "Classifying rows into monk_category...\n",
      "Processing complete! Results saved to output.csv.\n"
     ]
    }
   ],
   "source": [
    "process_csv(\"cielab.csv\", \"output.csv\")"
   ]
  }
 ],
 "metadata": {
  "kernelspec": {
   "display_name": "Python 3",
   "language": "python",
   "name": "python3"
  },
  "language_info": {
   "codemirror_mode": {
    "name": "ipython",
    "version": 3
   },
   "file_extension": ".py",
   "mimetype": "text/x-python",
   "name": "python",
   "nbconvert_exporter": "python",
   "pygments_lexer": "ipython3",
   "version": "3.9.13"
  }
 },
 "nbformat": 4,
 "nbformat_minor": 2
}
