{
 "cells": [
  {
   "cell_type": "code",
   "execution_count": null,
   "id": "22726f48",
   "metadata": {},
   "outputs": [],
   "source": [
    "# https://whysogorgeous.com/blog/determine-your-skin-tone-with-skin-tone-chart/?srsltid=AfmBOopjhkwhz4BFUfpWkiGDu3w8PyLsrcvBGL9gGFCFvpey5oE9H67-"
   ]
  },
  {
   "cell_type": "code",
   "execution_count": 7,
   "id": "9389bbd9",
   "metadata": {},
   "outputs": [],
   "source": [
    "warm_undertones = [\n",
    "    '#edd0bc',   # Fair\n",
    "    '#d3bc84',   # Light\n",
    "    '#a16f4e',   # Medium\n",
    "    '#5a330c'   # Dark\n",
    "\n",
    "]\n",
    "\n",
    "neutral_undertones = [\n",
    "    '#eec7bb',   # Fair\n",
    "    '#d0b086',   # Light\n",
    "    '#9e614f',   # Medium\n",
    "    '#59210d',   # Dark\n",
    "\n",
    "]\n",
    "\n",
    "cool_undertones = [\n",
    "\n",
    "    '#e1c6c6',   # Fair\n",
    "    '#c1ad92',   # Light\n",
    "    '#90615c',   # Medium\n",
    "    '#472321',   # Dark\n",
    "\n",
    "]"
   ]
  },
  {
   "cell_type": "code",
   "execution_count": 29,
   "id": "7ab08129",
   "metadata": {},
   "outputs": [],
   "source": [
    "def hex_to_rgb(value):\n",
    "    value = value.lstrip('#')\n",
    "    lv = len(value)\n",
    "    r, g, b = tuple(int(value[i:i + lv // 3], 16) for i in range(0, lv, lv // 3))\n",
    "    return r, g, b\n"
   ]
  },
  {
   "cell_type": "code",
   "execution_count": null,
   "id": "40380759",
   "metadata": {},
   "outputs": [
    {
     "name": "stdout",
     "output_type": "stream",
     "text": [
      "Hue: 24.49, Saturation: 20.68, Value: 92.94\n",
      "warm\n",
      "Hue: 42.53, Saturation: 37.44, Value: 82.75\n",
      "warm\n",
      "Hue: 23.86, Saturation: 51.55, Value: 63.14\n",
      "warm\n",
      "Hue: 30.0, Saturation: 86.67, Value: 35.29\n",
      "warm\n",
      "Hue: 14.12, Saturation: 21.43, Value: 93.33\n",
      "warm\n",
      "Hue: 34.05, Saturation: 35.58, Value: 81.57\n",
      "warm\n",
      "Hue: 13.67, Saturation: 50.0, Value: 61.96\n",
      "warm\n",
      "Hue: 15.79, Saturation: 85.39, Value: 34.9\n",
      "warm\n",
      "Hue: 0.0, Saturation: 12.0, Value: 88.24\n",
      "Neutral\n",
      "Hue: 34.47, Saturation: 24.35, Value: 75.69\n",
      "warm\n",
      "Hue: 5.77, Saturation: 36.11, Value: 56.47\n",
      "warm\n",
      "Hue: 3.16, Saturation: 53.52, Value: 27.84\n",
      "warm\n"
     ]
    }
   ],
   "source": [
    "# Using HSV/L Color Model\n",
    "import colorsys\n",
    "from skimage.color import rgb2hsv\n",
    "import numpy as np\n",
    "\n",
    "#Convert Input Color to HSV \n",
    "\n",
    "def getHSV(hex):\n",
    "    \n",
    "    # convert hex to rgb\n",
    "    r, g, b = hex_to_rgb(hex)\n",
    "    # print(f\"RGB: R={r}, G={g}, B={b}\")\n",
    "\n",
    "    rgb_normalized = np.array([[[r / 255.0, g / 255.0, b / 255.0]]])\n",
    "    # convert to HSV / HSL -> Normalized \n",
    "    hsv = rgb2hsv(rgb_normalized)\n",
    "    h, s, v = hsv[0][0]\n",
    "\n",
    "    h = round(h * 360, 2)\n",
    "    s = round(s * 100, 2)\n",
    "    v = round(v * 100, 2)\n",
    "    \n",
    "    print(f\"Hue: {h}, Saturation: {s}, Value: {v}\")\n",
    "\n",
    "    if (0 <= h < 90 or 270 < h <= 360) and s > 15:\n",
    "        return 'warm'\n",
    "    elif 90 <= h < 300 and s <= 15:\n",
    "        return 'cool'\n",
    "    elif s <= 15:\n",
    "        return 'Neutral'\n",
    "    elif 60 < h < 150:\n",
    "        return 'Olive'\n",
    "\n",
    "\n",
    "for i in warm_undertones:\n",
    "    print(getHSV(i))\n",
    "\n",
    "for j in neutral_undertones:\n",
    "    print(getHSV(j))\n",
    "\n",
    "for k in cool_undertones:\n",
    "    print(getHSV(k))\n",
    "\n",
    "\n"
   ]
  }
 ],
 "metadata": {
  "kernelspec": {
   "display_name": "Python 3",
   "language": "python",
   "name": "python3"
  },
  "language_info": {
   "codemirror_mode": {
    "name": "ipython",
    "version": 3
   },
   "file_extension": ".py",
   "mimetype": "text/x-python",
   "name": "python",
   "nbconvert_exporter": "python",
   "pygments_lexer": "ipython3",
   "version": "3.9.13"
  }
 },
 "nbformat": 4,
 "nbformat_minor": 5
}
